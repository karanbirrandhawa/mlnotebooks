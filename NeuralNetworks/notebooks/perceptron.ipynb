{
 "cells": [
  {
   "cell_type": "markdown",
   "metadata": {},
   "source": [
    "# Perceptron\n",
    "\n",
    "A perceptron is a basic learning algorithm/model that sits as a pillar of neural network programming. For this notebook when we refer to perceptron we're going to refer to a single-layer perceptron that will operate as follows:\n",
    "\n",
    "- Multiple input nodes will be connected to a node (or multiple nodes) in the next layer. \n",
    "- We can also have a a bias node ${w_0}$\n",
    "- The node(s) in the next layer take a weighted sum of all its inputs: $ \\sum{w_i}{I_i} $\n",
    "- Each of the node(s) in the next layer will have a \"threshold\" ${t}$. It can compare the weighted sum against that threshold and output in binary form: \n",
    "  - $ if \\sum{w_i}{I_i} \\geq {t} $ then $ y = 1 $\n",
    "  - $ if \\sum{w_i}{I_i} \\lt {t} $ then $ y = 0 $"
   ]
  },
  {
   "cell_type": "code",
   "execution_count": 1,
   "metadata": {
    "collapsed": false
   },
   "outputs": [
    {
     "data": {
      "image/png": "[encoded data removed]",
      "text/plain": [
       "<IPython.core.display.Image object>"
      ]
     },
     "execution_count": 1,
     "metadata": {},
     "output_type": "execute_result"
    }
   ],
   "source": [
    "from IPython.display import Image\n",
    "Image(filename='../images/perceptron.png')"
   ]
  },
  {
   "cell_type": "markdown",
   "metadata": {},
   "source": [
    "We can use an easy example of a single-layer perceptron to train an AND gate. First let's look at an AND gate's behaviour."
   ]
  },
  {
   "cell_type": "markdown",
   "metadata": {
    "collapsed": true
   },
   "source": [
    "### The Perceptron Algorithm\n",
    "\n",
    "We're going to go through the algorithm for a single-layer perceptron. For a multi-layer perceptron, which has a hidden layer, we'll need to use a more complicated algorithm such as backpropogation. \n",
    "\n",
    "The algorith will require a training data set which will consist of an input ${x}$ with any number of features and  binary desired output for the input ${d}$. i.e. one line could be $x= [1, 0]$, $d = 0$. We will also require a function $ f $ which will produce the output. \n",
    "\n",
    "\\begin{align}\n",
    "f(x) = \\{  \\begin{array} 1 1 \\space if \\space w \\cdot x + b > 0 \\\\ 0 \\space otherwise\\end{array}\n",
    "\\end{align}\n",
    "\n",
    "$ w \\cdot x $ is the dot product between the weights and the input. $ b $ is the bias, and allows us to shift the decision boundary away from the origin. Within the case of this single layer perceptron we use a step activation function. This is useful since we plan to operate on linearly seperable data. Later we're going to be working on multi-layer perceptrons and other variations that deal with data that's not necessarily linear. In that case we would not be able to use this activation function and instead using something such as the sigmoid function. \n",
    "\n",
    "\n",
    "The algorithm witself ill operate as follows:\n",
    "\n",
    "1. Initialize all weights to begin with as really small random values. \n",
    "2. Create a train function which will train the perceptron with the data for each example ${j}$. For each example ${j}$, perform the following steps over the input ${i_j}$ and desired output ${d_j}$:\n",
    "    1. Calculate the actual output using the following hypothesis function:\n",
    "        \\begin{align}\n",
    "        y_j(t) & = f|w(t) \\cdot x_j| \\\\\n",
    "               & = f|{w_0(t)}x_{j,0} + {w_1(t)}x_{j,1} .. + {w_n(t)}x_{j,n}| \n",
    "        \\end{align}\n",
    "    2. Update the weights:\n",
    "        \\begin{align}\n",
    "        w_i(t + 1) & = w_i(t) + (d_j - y_j(t))x_{j,i}\n",
    "        \\end{align}"
   ]
  },
  {
   "cell_type": "code",
   "execution_count": 2,
   "metadata": {
    "collapsed": false
   },
   "outputs": [],
   "source": [
    "import numpy as np\n",
    "import random \n",
    "\n",
    "class Perceptron:\n",
    "    \n",
    "    def __init__(self, input_size):\n",
    "        \"\"\"Initialize perceptron with random, preferably small, weights.\"\"\"\n",
    "        self.w = [random.random() for i in range(input_size)]\n",
    "    \n",
    "    def output(self, x):\n",
    "        \"\"\"Obtain output from perceptron based on input vector \"\"\"\n",
    "        return self.activation(self.w, x)\n",
    "          \n",
    "    def train(self, data):\n",
    "        \"\"\"Train perceptron based on provided data\"\"\"\n",
    "        for j in data:\n",
    "            x = j[:len(j)-1]\n",
    "            d = j[len(j)-1]\n",
    "            \n",
    "            y = self.activation(self.w, x)\n",
    "            self.update_weights(self.w, d, x, y)\n",
    "\n",
    "    def activation(self, w, x):\n",
    "        \"\"\"Activation function for perceptron using step function outlined above\"\"\"\n",
    "        if np.dot(self.w, x) < 0:\n",
    "            return 1\n",
    "        else:\n",
    "            return 0\n",
    "    \n",
    "    def update_weights(self, w, d, x, y):\n",
    "        \"\"\"Updates weights using function outlined above\"\"\"\n",
    "        for i in range(len(self.w)):\n",
    "            self.w[i] = w[i] + (y - d)*x[i]"
   ]
  },
  {
   "cell_type": "code",
   "execution_count": 3,
   "metadata": {
    "collapsed": false
   },
   "outputs": [],
   "source": [
    "from pylab import rand, plot, norm, show\n",
    "\n",
    "def generate_data(size):\n",
    "    \"\"\"Generate test data which will essentially just add blue (xb, yb) and red (xr, yr) points to a 2D graph\"\"\"\n",
    "    xb = rand(size)*0.5       # between 0 and 0.5\n",
    "    yb = rand(size)*0.5 + 0.5 # between 0.5 and 1\n",
    "    xr = rand(size)*0.5 + 0.5 # between 0.5 and 1\n",
    "    yr = rand(size)*0.5       # between 0 and 0.5\n",
    "    \n",
    "    data = []\n",
    "    for i in range(size):\n",
    "        data.append([xb[i], yb[i], 1])\n",
    "        data.append([xr[i], yr[i], 0])\n",
    "    \n",
    "    return data\n",
    "\n",
    "perceptron = Perceptron(2) # Perceptron with input vector of size 2: (x, y) coords\n",
    "training_data = generate_data(100)\n",
    "perceptron.train(training_data)\n",
    "\n",
    "test_data = generate_data(20)\n",
    "for j in test_data:\n",
    "    input_vector = j[:len(j)-1]\n",
    "    desired_output = j[len(j)-1]\n",
    "    classification = perceptron.output(input_vector)\n",
    "    \n",
    "    if classification == 1:\n",
    "        plot(j[0], j[1], 'ob')\n",
    "    else:\n",
    "        plot(j[0], j[1], 'or')\n",
    "\n",
    "# plot of the separation line.\n",
    "# The separation line is orthogonal to w\n",
    "n = norm(perceptron.w)\n",
    "ww = perceptron.w/n\n",
    "ww1 = [ww[1],-ww[0]]\n",
    "ww2 = [-ww[1],ww[0]]\n",
    "plot([ww1[0], ww2[0]],[ww1[1], ww2[1]],'--k')\n",
    "show()"
   ]
  },
  {
   "cell_type": "markdown",
   "metadata": {},
   "source": [
    "The perceptron is a linear classifier. A linear classifier, as can be seen from its name, makes a decision on its classification based on a linear combination of its feature values. Thus it will never be able to correctly classify unless the training data set is linearly seperable. In order to get a working perceptron algorithm it's important to ensure that the data is linearly seperable to guarantee convergence. Graphically this would mean ensuring that a straight line could seperate our data into its two classes.\n",
    "\n",
    "One method of testing for linear seperability discussed in later notebooks is constructing a linear SVM and checking if it has 0% error.  "
   ]
  },
  {
   "cell_type": "code",
   "execution_count": null,
   "metadata": {
    "collapsed": true
   },
   "outputs": [],
   "source": []
  }
 ],
 "metadata": {
  "kernelspec": {
   "display_name": "Python 3",
   "language": "python",
   "name": "python3"
  },
  "language_info": {
   "codemirror_mode": {
    "name": "ipython",
    "version": 3
   },
   "file_extension": ".py",
   "mimetype": "text/x-python",
   "name": "python",
   "nbconvert_exporter": "python",
   "pygments_lexer": "ipython3",
   "version": "3.5.2"
  }
 },
 "nbformat": 4,
 "nbformat_minor": 2
}
