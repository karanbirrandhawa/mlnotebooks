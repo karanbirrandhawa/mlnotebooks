{
 "cells": [
  {
   "cell_type": "markdown",
   "metadata": {},
   "source": [
    "# Multiple Linear Regression\n",
    "\n",
    "Linear regression is a technique that allows us to model the relationiship between an dependent variable _y_ and a set of independent variables denoted X. Simple Linear Regression is the case of X being more than one independent variable.\n",
    "\n",
    "In other words a one-to-many relationships with y and X. "
   ]
  },
  {
   "cell_type": "code",
   "execution_count": 40,
   "metadata": {
    "collapsed": true
   },
   "outputs": [],
   "source": [
    "# Import libraries\n",
    "from sklearn.linear_model import LinearRegression\n",
    "from sklearn.metrics import classification_report\n",
    "\n",
    "import matplotlib.pyplot as plt\n",
    "import numpy as np\n",
    "import pandas as pd\n",
    "\n",
    "import math"
   ]
  },
  {
   "cell_type": "markdown",
   "metadata": {},
   "source": [
    "For example, take a first-order model $ {y_i} = ({\\beta_0} + {\\beta_1}{x_{i1}} + {\\beta_2}{x_{i2}}) + {e_i} $. This is going to be used to model after our dataset which will try to predict the breathing habits of baby birds that live in underground burrows.\n",
    "\n",
    "- $ {y_i} $ is the total volume of air breathed per minute by baby bird ${i}$ \n",
    "- $ {x_{i1}} $ is the percentage of oxygen in the air baby bird ${i}$ breathes\n",
    "- $ {x_{i2}} $ is the percentage of carbon dioxide in the air baby bird ${i}$ breathes.\n",
    "- $ {e_i} $ is an independent error term that will follow a normal distribution and equal variance.\n"
   ]
  },
  {
   "cell_type": "code",
   "execution_count": 41,
   "metadata": {
    "collapsed": false
   },
   "outputs": [],
   "source": [
    "def multipleLinearReg(data):\n",
    "    x_data = data.ix[:, 1:]\n",
    "    y_data = data.ix[:, 0]\n",
    "    \n",
    "    model = LinearRegression()\n",
    "    model.fit(x_data, y_data)\n",
    "    \n",
    "    return model"
   ]
  },
  {
   "cell_type": "markdown",
   "metadata": {},
   "source": [
    "We can now apply our dataset of baby bird breathing measurements."
   ]
  },
  {
   "cell_type": "code",
   "execution_count": 42,
   "metadata": {
    "collapsed": false
   },
   "outputs": [
    {
     "data": {
      "text/plain": [
       "LinearRegression(copy_X=True, fit_intercept=True, n_jobs=1, normalize=False)"
      ]
     },
     "execution_count": 42,
     "metadata": {},
     "output_type": "execute_result"
    }
   ],
   "source": [
    "dataset = pd.DataFrame(np.loadtxt(fname=\"../data/babybirds.txt\", skiprows=1, dtype=\"int16\"))\n",
    "dataset.columns = [\"$ {y_i} $\", \"$ {x_{i1}} $\", \"$ {x_{i2}} $\"]\n",
    "multipleLinearReg(dataset)"
   ]
  },
  {
   "cell_type": "code",
   "execution_count": null,
   "metadata": {
    "collapsed": true
   },
   "outputs": [],
   "source": []
  }
 ],
 "metadata": {
  "kernelspec": {
   "display_name": "Python 3",
   "language": "python",
   "name": "python3"
  },
  "language_info": {
   "codemirror_mode": {
    "name": "ipython",
    "version": 3
   },
   "file_extension": ".py",
   "mimetype": "text/x-python",
   "name": "python",
   "nbconvert_exporter": "python",
   "pygments_lexer": "ipython3",
   "version": "3.5.2"
  }
 },
 "nbformat": 4,
 "nbformat_minor": 2
}
