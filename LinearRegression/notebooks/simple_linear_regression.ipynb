{
 "cells": [
  {
   "cell_type": "markdown",
   "metadata": {},
   "source": [
    "# Simple Linear Regression\n",
    "\n",
    "Linear regression is a technique that allows us to model the relationiship between an dependent variable ${y}$ and a set of independent variables denoted ${X}$. __Simple Linear Regression__ is the case of ${X}$ being just one independent variable. \n",
    "\n",
    "In other words a one-to-one relationships with ${y}$ and ${X}$. In statistical relationships we often try to use SLR to construct a line of best fit. "
   ]
  },
  {
   "cell_type": "code",
   "execution_count": 211,
   "metadata": {
    "collapsed": false
   },
   "outputs": [],
   "source": [
    "# Import libraries\n",
    "from sklearn.linear_model import LinearRegression\n",
    "\n",
    "import matplotlib.pyplot as plt\n",
    "import numpy as np\n",
    "import pandas as pd\n",
    "\n",
    "import math"
   ]
  },
  {
   "cell_type": "markdown",
   "metadata": {},
   "source": [
    "In order to obtain the line of best fit we'll establish for each experiment sample (or measurement) i:\n",
    "\n",
    "- $ {y_i} $ denotes observed response for the measurement i (if it exists).\n",
    "- $ {x_i} $ denotes the value that produces the observed response and the value that we want to predict for. It also represents the line of best fit.\n",
    "- $ \\dot{y_i} $ is the predicted response based on $ {x_i} $.\n",
    "\n",
    "We know that the line of best fit can be represented by $ \\dot{y_i} = a{x_i} + b $\n",
    "\n",
    "But what are ${a}$ and ${b}$? We know that the line that fits that data best is one that has each prediction error be as small as possible. We need to find the values of ${a}$ and ${b}$ such that we can minimize the following quantity:\n",
    "\n",
    "\\begin{align}\n",
    "Q = \\sum_{i=1}^{n}{({y_i} - \\dot{y_i})}^2\n",
    "\\end{align}\n",
    "\n",
    "- $ {e_i} = {y_i} - \\dot{y_i} $  is the prediction error for a measurement i.\n",
    "- $ {e_i}^2 $ is the squared prediction error for a measurement i. \n",
    "- $ \\sum_{i=1}^{n} $ indicates that we will be summing these errors over all measurements\n",
    "\n",
    "\\begin{align}\n",
    "Q = \\sum_{i=1}^{n}{({y_i} - (a{x_i} + b))}^2\n",
    "\\end{align}\n",
    "\n",
    "If we minimize the equation above we can get:\n",
    "\n",
    "\\begin{align}\n",
    "{b} = \\bar{y} - a{\\bar{x}}\n",
    "\\end{align}\n",
    "\n",
    "\\begin{align}\n",
    "{a} = \\frac{\\sum_{i=1}^{n}{({x_i} - {x})({y_i} - {y})}}{\\sum_{i=1}^{n}{({x_i} - {x}})^2}\n",
    "\\end{align}\n",
    "\n",
    "Some interesting facts we can note:\n",
    "- if __the slope__, ${a}$, is positive then the trend must be positive. As ${x}$ increases, ${y}$ increases.\n",
    "- if __the slope__, ${a}$, is negative then the trend must be negative. As ${x}$ increases, ${y}$ decreases.\n",
    "- __the intercept__, ${b}$, is going to tell us the predicted value of at ${x} = 0$. This is generally useless unless the scope of the model includes ${x} = 0$. For example, a person who is 0 inches isn't within the scope of the model so the value obtained at the intercept is useless by itself.\n",
    "\n",
    "So let's establish a function that can take our measurements and provide predictions for each measurement:"
   ]
  },
  {
   "cell_type": "code",
   "execution_count": 212,
   "metadata": {
    "collapsed": false
   },
   "outputs": [],
   "source": [
    "def simpleLinearReg(data):\n",
    "    ht_series = data.ix[:,0]\n",
    "    ht_series = ht_series.values.reshape(-1, 1)\n",
    "    wt_series = data.ix[:,1]\n",
    "    wt_series = wt_series.values.reshape(-1, 1)\n",
    "    \n",
    "    model = LinearRegression()\n",
    "    model.fit(ht_series, wt_series)\n",
    "    \n",
    "    predicted_wt_series = model.predict(ht_series)[:,0]\n",
    "    data[2] = predicted_wt_series\n",
    "    data.columns =[\"${x_i}$\", \"${y_i}$\", \"$\\dot{y_i}$\"]\n",
    "    \n",
    "    plt.scatter(ht_series, wt_series)\n",
    "    plt.plot(ht_series, predicted_wt_series)\n",
    "    plt.xlabel('Height')\n",
    "    plt.ylabel('Weight')\n",
    "    plt.show()\n",
    "    return data"
   ]
  },
  {
   "cell_type": "markdown",
   "metadata": {},
   "source": [
    "Let's take a dataset of the height (X) and weight (y) of 10 students. "
   ]
  },
  {
   "cell_type": "code",
   "execution_count": 213,
   "metadata": {
    "collapsed": false
   },
   "outputs": [
    {
     "data": {
      "image/png": "[encoded data removed]",
      "text/plain": [
       "<matplotlib.figure.Figure at 0x1097ffe80>"
      ]
     },
     "metadata": {},
     "output_type": "display_data"
    },
    {
     "data": {
      "text/html": [
       "<div>\n",
       "<table border=\"1\" class=\"dataframe\">\n",
       "  <thead>\n",
       "    <tr style=\"text-align: right;\">\n",
       "      <th></th>\n",
       "      <th>${x_i}$</th>\n",
       "      <th>${y_i}$</th>\n",
       "      <th>$\\dot{y_i}$</th>\n",
       "    </tr>\n",
       "  </thead>\n",
       "  <tbody>\n",
       "    <tr>\n",
       "      <th>0</th>\n",
       "      <td>63</td>\n",
       "      <td>127</td>\n",
       "      <td>120.133237</td>\n",
       "    </tr>\n",
       "    <tr>\n",
       "      <th>1</th>\n",
       "      <td>64</td>\n",
       "      <td>121</td>\n",
       "      <td>126.270818</td>\n",
       "    </tr>\n",
       "    <tr>\n",
       "      <th>2</th>\n",
       "      <td>66</td>\n",
       "      <td>142</td>\n",
       "      <td>138.545981</td>\n",
       "    </tr>\n",
       "    <tr>\n",
       "      <th>3</th>\n",
       "      <td>69</td>\n",
       "      <td>157</td>\n",
       "      <td>156.958726</td>\n",
       "    </tr>\n",
       "    <tr>\n",
       "      <th>4</th>\n",
       "      <td>69</td>\n",
       "      <td>162</td>\n",
       "      <td>156.958726</td>\n",
       "    </tr>\n",
       "    <tr>\n",
       "      <th>5</th>\n",
       "      <td>71</td>\n",
       "      <td>156</td>\n",
       "      <td>169.233888</td>\n",
       "    </tr>\n",
       "    <tr>\n",
       "      <th>6</th>\n",
       "      <td>71</td>\n",
       "      <td>169</td>\n",
       "      <td>169.233888</td>\n",
       "    </tr>\n",
       "    <tr>\n",
       "      <th>7</th>\n",
       "      <td>72</td>\n",
       "      <td>165</td>\n",
       "      <td>175.371470</td>\n",
       "    </tr>\n",
       "    <tr>\n",
       "      <th>8</th>\n",
       "      <td>73</td>\n",
       "      <td>181</td>\n",
       "      <td>181.509051</td>\n",
       "    </tr>\n",
       "    <tr>\n",
       "      <th>9</th>\n",
       "      <td>75</td>\n",
       "      <td>208</td>\n",
       "      <td>193.784214</td>\n",
       "    </tr>\n",
       "  </tbody>\n",
       "</table>\n",
       "</div>"
      ],
      "text/plain": [
       "   ${x_i}$  ${y_i}$  $\\dot{y_i}$\n",
       "0       63      127   120.133237\n",
       "1       64      121   126.270818\n",
       "2       66      142   138.545981\n",
       "3       69      157   156.958726\n",
       "4       69      162   156.958726\n",
       "5       71      156   169.233888\n",
       "6       71      169   169.233888\n",
       "7       72      165   175.371470\n",
       "8       73      181   181.509051\n",
       "9       75      208   193.784214"
      ]
     },
     "execution_count": 213,
     "metadata": {},
     "output_type": "execute_result"
    }
   ],
   "source": [
    "dataset = pd.DataFrame(np.loadtxt(fname=\"../data/student_height_weight.txt\", skiprows=1, dtype=\"int16\"))\n",
    "simpleLinearReg(dataset)"
   ]
  },
  {
   "cell_type": "markdown",
   "metadata": {},
   "source": [
    "The last thing to note when constructing our simple linear regression model is that the errors ${e_i}$ are independent normal random variables with mean of zero and constant variance, ${\\sigma}^2$. There's a lot that goes on in that sentence so we can break it down:\n",
    "\n",
    "__errors ${e_i}$ are independent, random variables__\n",
    "\n",
    "If we took a random sample from the population can we ensure that each data point is independent of another?\n",
    "\n",
    "__errors ${e_i}$ are normally distributed__\n",
    "\n",
    "This makes sense as the errors should mostly be clustered near zero. For example, for a height of 75 we might have weights of 208, 200, 184, 197. Our predicted value is 193 and in order to have a solid simple linear regression model we want our errors to tend to be closer to 0. \n",
    "\n",
    "__errors ${e_i}$ have a mean of zero__\n",
    "\n",
    "As explained above we want them to tend to be zero. \n",
    "\n",
    "__errors ${e_i}$ have constant variance__\n",
    "\n",
    "We want the errors for height=72 and height=75 to have similar spread of errors.\n"
   ]
  },
  {
   "cell_type": "code",
   "execution_count": null,
   "metadata": {
    "collapsed": true
   },
   "outputs": [],
   "source": []
  }
 ],
 "metadata": {
  "kernelspec": {
   "display_name": "Python 3",
   "language": "python",
   "name": "python3"
  },
  "language_info": {
   "codemirror_mode": {
    "name": "ipython",
    "version": 3
   },
   "file_extension": ".py",
   "mimetype": "text/x-python",
   "name": "python",
   "nbconvert_exporter": "python",
   "pygments_lexer": "ipython3",
   "version": "3.5.2"
  }
 },
 "nbformat": 4,
 "nbformat_minor": 2
}
